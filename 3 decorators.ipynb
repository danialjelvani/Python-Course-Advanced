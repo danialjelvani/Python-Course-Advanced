{
 "cells": [
  {
   "cell_type": "markdown",
   "metadata": {},
   "source": [
    "without decorator"
   ]
  },
  {
   "cell_type": "code",
   "execution_count": 36,
   "metadata": {},
   "outputs": [
    {
     "name": "stdout",
     "output_type": "stream",
     "text": [
      "***\n",
      "hi !\n",
      "***\n"
     ]
    }
   ],
   "source": [
    "def say_hi():\n",
    "    print(f'hi !')\n",
    "def my_decorator(func):\n",
    "    def wrapper():\n",
    "        print('***')\n",
    "        func()\n",
    "        print('***')\n",
    "    return wrapper\n",
    "my_decorator(say_hi)()"
   ]
  },
  {
   "cell_type": "markdown",
   "metadata": {},
   "source": [
    "with decorator"
   ]
  },
  {
   "cell_type": "code",
   "execution_count": 37,
   "metadata": {},
   "outputs": [
    {
     "name": "stdout",
     "output_type": "stream",
     "text": [
      "***\n",
      "bye\n",
      "***\n"
     ]
    }
   ],
   "source": [
    "# ye @decorator line ghable function mizarim\n",
    "# k decoresh kone(mishe chanta decoratoram line b line bezarim)\n",
    "@my_decorator\n",
    "def say_bye():\n",
    "    print(f'bye')\n",
    "\n",
    "say_bye()"
   ]
  },
  {
   "cell_type": "markdown",
   "metadata": {},
   "source": [
    "decorator with args"
   ]
  },
  {
   "cell_type": "code",
   "execution_count": 45,
   "metadata": {},
   "outputs": [
    {
     "name": "stdout",
     "output_type": "stream",
     "text": [
      "---\n",
      "hi danial !\n",
      "---\n"
     ]
    }
   ],
   "source": [
    "# bayad args o kwargs vase wrappero dakhelesh tarif knim:\n",
    "def my_decorator2(func):\n",
    "    def wrapper(*args, **kwargs):\n",
    "        print('---')\n",
    "        func(*args, **kwargs)\n",
    "        print('---')\n",
    "    return wrapper\n",
    "@my_decorator2\n",
    "def say_hi_name(name):\n",
    "    print(f'hi {name} !')\n",
    "say_hi_name('danial')\n",
    "# dar bala k decorator @ ovordim baes mishe\n",
    "# say_hi_name moadele wrapper dide she az dide\n",
    "# python va hatta esmesho doc esh mishe wrapper\n",
    "# k ba @functools.wraps() doros mikonimesh"
   ]
  },
  {
   "cell_type": "code",
   "execution_count": 54,
   "metadata": {},
   "outputs": [
    {
     "name": "stdout",
     "output_type": "stream",
     "text": [
      "say_bye_name\n",
      "-*-\n",
      "bye danial\n",
      "-*-\n"
     ]
    }
   ],
   "source": [
    "import functools\n",
    "\n",
    "def my_decorator3(func):\n",
    "    @functools.wraps(func)\n",
    "    def wrapper(*args, **kwargs):\n",
    "        print('-*-')\n",
    "        func(*args , **kwargs)\n",
    "        print('-*-')\n",
    "    return wrapper\n",
    "\n",
    "@my_decorator3\n",
    "def say_bye_name(name):\n",
    "    print(f'bye {name}')\n",
    "print(say_bye_name.__name__)\n",
    "say_bye_name('danial')\n"
   ]
  }
 ],
 "metadata": {
  "kernelspec": {
   "display_name": "Python 3",
   "language": "python",
   "name": "python3"
  },
  "language_info": {
   "codemirror_mode": {
    "name": "ipython",
    "version": 3
   },
   "file_extension": ".py",
   "mimetype": "text/x-python",
   "name": "python",
   "nbconvert_exporter": "python",
   "pygments_lexer": "ipython3",
   "version": "3.12.6"
  }
 },
 "nbformat": 4,
 "nbformat_minor": 2
}
