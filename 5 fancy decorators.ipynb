{
 "cells": [
  {
   "cell_type": "markdown",
   "metadata": {},
   "source": [
    "decorators with arguments"
   ]
  },
  {
   "cell_type": "code",
   "execution_count": 18,
   "metadata": {},
   "outputs": [],
   "source": [
    "# repeat decorator\n",
    "\n",
    "import functools\n",
    "\n",
    "def repeat(num_of_times=2):\n",
    "    def repeat_decorator(func):\n",
    "        @functools.wraps(func)\n",
    "        def wrapper(*args, **kwargs):\n",
    "            for i in range(num_of_times):\n",
    "                func(*args , **kwargs)\n",
    "        return wrapper\n",
    "    return repeat_decorator"
   ]
  },
  {
   "cell_type": "code",
   "execution_count": 19,
   "metadata": {},
   "outputs": [
    {
     "name": "stdout",
     "output_type": "stream",
     "text": [
      "Hi Danial !\n",
      "Hi Danial !\n",
      "Hi Danial !\n",
      "Hi Danial !\n"
     ]
    }
   ],
   "source": [
    "@repeat(4)\n",
    "def say_hi(name):\n",
    "    print(f'Hi {name} !')\n",
    "\n",
    "say_hi('Danial')"
   ]
  },
  {
   "cell_type": "markdown",
   "metadata": {},
   "source": [
    "decorators with optional arguments"
   ]
  },
  {
   "cell_type": "code",
   "execution_count": 20,
   "metadata": {},
   "outputs": [],
   "source": [
    "def repeat2(_func=None, num_times=2):\n",
    "    def repeat_decorator(func):\n",
    "        @functools.wraps(func)\n",
    "        def wrapper(*args, **kwargs):\n",
    "            for i in range(num_times):\n",
    "                func(*args, **kwargs)\n",
    "        return wrapper\n",
    "    if _func==None:\n",
    "        return repeat_decorator\n",
    "    else:\n",
    "        return repeat_decorator(_func)"
   ]
  },
  {
   "cell_type": "code",
   "execution_count": 21,
   "metadata": {},
   "outputs": [
    {
     "name": "stdout",
     "output_type": "stream",
     "text": [
      "Bye Danial !\n",
      "Bye Danial !\n",
      "Bye Danial !\n",
      "Bye Danial !\n"
     ]
    }
   ],
   "source": [
    "@repeat2(num_times=4)\n",
    "def say_bye(name):\n",
    "    print(f'Bye {name} !')\n",
    "\n",
    "say_bye('Danial')"
   ]
  },
  {
   "cell_type": "markdown",
   "metadata": {},
   "source": [
    "stateful decorators"
   ]
  },
  {
   "cell_type": "code",
   "execution_count": 22,
   "metadata": {},
   "outputs": [],
   "source": [
    "# ye memory az tedad run func save mikone\n",
    "\n",
    "def count_calls(func):\n",
    "    def wrapper(*args, **kwargs):\n",
    "        func(*args, **kwargs)\n",
    "        wrapper.counter += 1\n",
    "        print(f'call number {wrapper.counter}\\n')\n",
    "    wrapper.counter = 0\n",
    "    return wrapper"
   ]
  },
  {
   "cell_type": "code",
   "execution_count": 23,
   "metadata": {},
   "outputs": [
    {
     "name": "stdout",
     "output_type": "stream",
     "text": [
      "Hi !\n",
      "call number 1\n",
      "\n",
      "Hi !\n",
      "call number 2\n",
      "\n",
      "Hi !\n",
      "call number 3\n",
      "\n"
     ]
    }
   ],
   "source": [
    "@count_calls\n",
    "def count_hi():\n",
    "    print('Hi !')\n",
    "\n",
    "count_hi()\n",
    "count_hi()\n",
    "count_hi()"
   ]
  },
  {
   "cell_type": "markdown",
   "metadata": {},
   "source": [
    "cache"
   ]
  },
  {
   "cell_type": "code",
   "execution_count": 24,
   "metadata": {},
   "outputs": [],
   "source": [
    "# mishe az functools.cache estefade krd mishe ham khidemun benevisim\n",
    "\n",
    "def cache(func):\n",
    "    functools.wraps(func)\n",
    "    def wrapper(*args, **kwargs):\n",
    "        if args in wrapper.memory:\n",
    "            return wrapper.memory[args]\n",
    "        output = func(*args, **kwargs)\n",
    "        wrapper.memory[args] = output\n",
    "        return output\n",
    "    wrapper.memory = {}\n",
    "    return wrapper"
   ]
  },
  {
   "cell_type": "code",
   "execution_count": 25,
   "metadata": {},
   "outputs": [],
   "source": [
    "import time\n",
    "@cache\n",
    "def hard_job(num):\n",
    "    start = time.perf_counter()\n",
    "    x = num**num\n",
    "    end = time.perf_counter()\n",
    "    runtime = end - start\n",
    "    print(f'it took {runtime:.9} secs')"
   ]
  },
  {
   "cell_type": "code",
   "execution_count": 26,
   "metadata": {},
   "outputs": [
    {
     "name": "stdout",
     "output_type": "stream",
     "text": [
      "it took 0.000775800087 secs\n"
     ]
    }
   ],
   "source": [
    "hard_job(5000)"
   ]
  },
  {
   "cell_type": "code",
   "execution_count": 27,
   "metadata": {},
   "outputs": [],
   "source": [
    "# nokte jaleb inke vaghti cache mikone\n",
    "# dg run nmikone func ro va az\n",
    "# wrapper.memory mikhune vase hamin\n",
    "# dg func ejra nmisheo print nmideo\n",
    "# timesham hesab nmikone ba hamun args\n",
    "\n",
    "hard_job(5000)"
   ]
  },
  {
   "cell_type": "code",
   "execution_count": 28,
   "metadata": {},
   "outputs": [],
   "source": [
    "@functools.cache\n",
    "def hard_job2(num):\n",
    "    start = time.perf_counter()\n",
    "    x = num**num\n",
    "    end = time.perf_counter()\n",
    "    runtime = end - start\n",
    "    print(f'it took {runtime:.9} secs')"
   ]
  },
  {
   "cell_type": "code",
   "execution_count": 29,
   "metadata": {},
   "outputs": [
    {
     "name": "stdout",
     "output_type": "stream",
     "text": [
      "it took 0.000603000051 secs\n"
     ]
    }
   ],
   "source": [
    "hard_job2(5000)"
   ]
  },
  {
   "cell_type": "code",
   "execution_count": 30,
   "metadata": {},
   "outputs": [],
   "source": [
    "# in functools.cache ham mese cache khodemune\n",
    "\n",
    "hard_job2(5000)"
   ]
  }
 ],
 "metadata": {
  "kernelspec": {
   "display_name": "Python 3",
   "language": "python",
   "name": "python3"
  },
  "language_info": {
   "codemirror_mode": {
    "name": "ipython",
    "version": 3
   },
   "file_extension": ".py",
   "mimetype": "text/x-python",
   "name": "python",
   "nbconvert_exporter": "python",
   "pygments_lexer": "ipython3",
   "version": "3.12.6"
  }
 },
 "nbformat": 4,
 "nbformat_minor": 2
}
