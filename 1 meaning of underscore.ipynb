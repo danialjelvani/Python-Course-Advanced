{
 "cells": [
  {
   "cell_type": "markdown",
   "metadata": {},
   "source": [
    "single leading underscore _var"
   ]
  },
  {
   "cell_type": "code",
   "execution_count": 49,
   "metadata": {},
   "outputs": [],
   "source": [
    "# b manie convention e private budn variable e\n",
    "# masalan birun class estefade nashe\n",
    "# tanha tafavote amalkardi ine k agar\n",
    "# import * knim private ha import nmishn"
   ]
  },
  {
   "cell_type": "markdown",
   "metadata": {},
   "source": [
    "single trailing underscore var_"
   ]
  },
  {
   "cell_type": "code",
   "execution_count": 50,
   "metadata": {},
   "outputs": [],
   "source": [
    "# vaghti mikhaim masalan ye keyword reserve\n",
    "# python ro esme variable bezarim ye under badesh miarim"
   ]
  },
  {
   "cell_type": "markdown",
   "metadata": {},
   "source": [
    "double leading underscore __var"
   ]
  },
  {
   "cell_type": "code",
   "execution_count": 51,
   "metadata": {},
   "outputs": [],
   "source": [
    "# in ham mani private mide vali az nazar python\n",
    "# shadidtar va attribute call nmishe kharej class\n",
    "# va agar tu dir(attr) check knim mibinim\n",
    "# esmesho gozashe _Test__var\n",
    "# va in __var agar classi be ers bebaratesh khodesh\n",
    "# overwrite nmishe va esme un subclassesh miad ghable esmesh _classname_._name_\n",
    "# b in kar mign mangle"
   ]
  },
  {
   "cell_type": "markdown",
   "metadata": {},
   "source": [
    "double leading and trailing underscore"
   ]
  },
  {
   "cell_type": "code",
   "execution_count": 52,
   "metadata": {},
   "outputs": [],
   "source": [
    "# python vase esma khodesh gozashte"
   ]
  },
  {
   "cell_type": "markdown",
   "metadata": {},
   "source": [
    "separate numeric literals"
   ]
  },
  {
   "cell_type": "code",
   "execution_count": 53,
   "metadata": {},
   "outputs": [
    {
     "data": {
      "text/plain": [
       "1214545542"
      ]
     },
     "execution_count": 53,
     "metadata": {},
     "output_type": "execute_result"
    }
   ],
   "source": [
    "121_45_4554_2\n",
    "# vase khundn adada bedune hich func ee\n",
    "# va lazem nis hatmn 3 tayi bashe"
   ]
  },
  {
   "cell_type": "markdown",
   "metadata": {},
   "source": [
    "single underscore _"
   ]
  },
  {
   "cell_type": "code",
   "execution_count": 54,
   "metadata": {},
   "outputs": [
    {
     "name": "stdout",
     "output_type": "stream",
     "text": [
      "iran\n",
      "[30, 'iran']\n",
      "danial\n",
      "ali\n",
      "romina\n"
     ]
    }
   ],
   "source": [
    "# temporary variable e az nazare ma\n",
    "# va tu unpack tuple\n",
    "id = ('danial', 30, 'iran')\n",
    "name, _ , _ = id\n",
    "# yani age o country b karemun nmiad gharardadie\n",
    "print(_) # un akharin vari k assign shodero miare\n",
    "\n",
    "name, *_ = id\n",
    "print(_) # inja ye tuple ro assign mikone b var\n",
    "\n",
    "people = [\n",
    "    ('danial', 'jelvani'),\n",
    "    ('ali','hejazi'),\n",
    "    ('romina','jelvani'),\n",
    "]\n",
    "for f_name , _ in people:\n",
    "    print(f_name)"
   ]
  },
  {
   "cell_type": "markdown",
   "metadata": {},
   "source": [
    "single underscore in REPL"
   ]
  },
  {
   "cell_type": "code",
   "execution_count": 62,
   "metadata": {},
   "outputs": [],
   "source": [
    "# barabare last expression mishe\n",
    "# dar surati k ghabln define nashode bashe\n",
    "a = 2"
   ]
  }
 ],
 "metadata": {
  "kernelspec": {
   "display_name": "Python 3",
   "language": "python",
   "name": "python3"
  },
  "language_info": {
   "codemirror_mode": {
    "name": "ipython",
    "version": 3
   },
   "file_extension": ".py",
   "mimetype": "text/x-python",
   "name": "python",
   "nbconvert_exporter": "python",
   "pygments_lexer": "ipython3",
   "version": "3.12.6"
  }
 },
 "nbformat": 4,
 "nbformat_minor": 2
}
